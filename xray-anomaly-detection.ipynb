{
  "nbformat": 4,
  "nbformat_minor": 0,
  "metadata": {
    "colab": {
      "provenance": [],
      "gpuType": "T4"
    },
    "kernelspec": {
      "name": "python3",
      "display_name": "Python 3"
    },
    "language_info": {
      "name": "python"
    },
    "accelerator": "GPU"
  },
  "cells": [
    {
      "cell_type": "code",
      "source": [
        "from google.colab import drive\n",
        "drive.mount('/content/drive')\n"
      ],
      "metadata": {
        "colab": {
          "base_uri": "https://localhost:8080/"
        },
        "id": "3hYnlV9u2UEC",
        "outputId": "16e961ea-c986-4bd6-891f-f2df0abae06c"
      },
      "execution_count": null,
      "outputs": [
        {
          "output_type": "stream",
          "name": "stdout",
          "text": [
            "Drive already mounted at /content/drive; to attempt to forcibly remount, call drive.mount(\"/content/drive\", force_remount=True).\n"
          ]
        }
      ]
    },
    {
      "cell_type": "code",
      "source": [
        "import os\n",
        "import numpy as np\n",
        "import cv2\n",
        "import random\n",
        "import torch\n",
        "import torch.nn as nn\n",
        "import torch.optim as optim\n",
        "from torch.utils.data import Dataset, DataLoader\n",
        "from torchvision import models, transforms\n",
        "from sklearn.model_selection import train_test_split\n",
        "from tqdm import tqdm\n",
        "from PIL import Image\n",
        "import matplotlib.pyplot as plt"
      ],
      "metadata": {
        "id": "oZAoHO205MIj"
      },
      "execution_count": null,
      "outputs": []
    },
    {
      "cell_type": "code",
      "source": [
        "positive_dir = '/content/drive/MyDrive/Minor Project/DvXray_Positive_Samples'\n",
        "negative_dir = '/content/drive/MyDrive/Minor Project/DvXray_Negative_Samples'\n"
      ],
      "metadata": {
        "id": "d8LYoIxj5P9j"
      },
      "execution_count": null,
      "outputs": []
    },
    {
      "cell_type": "code",
      "source": [
        "# Set image size\n",
        "img_size = 224\n",
        "\n",
        "# Transform pipeline (you already defined this)\n",
        "transform = transforms.Compose([\n",
        "    transforms.Resize((img_size, img_size)),\n",
        "    transforms.ToTensor(),\n",
        "    transforms.Normalize([0.485, 0.456, 0.406],\n",
        "                         [0.229, 0.224, 0.225])\n",
        "])"
      ],
      "metadata": {
        "id": "tyl4HE9S793F"
      },
      "execution_count": null,
      "outputs": []
    },
    {
      "cell_type": "code",
      "source": [
        "# Custom Dataset\n",
        "class CargoDataset(Dataset):\n",
        "    def __init__(self, folder, transform=None):\n",
        "        self.folder = folder\n",
        "        self.transform = transform\n",
        "        self.image_files = [f for f in os.listdir(folder) if f.endswith(\".png\")]\n",
        "\n",
        "    def __len__(self):\n",
        "        return len(self.image_files)\n",
        "\n",
        "    def __getitem__(self, idx):\n",
        "        img_path = os.path.join(self.folder, self.image_files[idx])\n",
        "        image = Image.open(img_path).convert(\"RGB\")\n",
        "        if self.transform:\n",
        "            image = self.transform(image)\n",
        "        return image"
      ],
      "metadata": {
        "id": "ilmpdwqV9FxG"
      },
      "execution_count": null,
      "outputs": []
    },
    {
      "cell_type": "code",
      "source": [
        "# Instantiate Datasets\n",
        "positive_dataset = CargoDataset(positive_dir, transform)\n",
        "negative_dataset = CargoDataset(negative_dir, transform)\n"
      ],
      "metadata": {
        "id": "wqB5rSpdA33R"
      },
      "execution_count": null,
      "outputs": []
    },
    {
      "cell_type": "code",
      "source": [
        "class SiamesePairDataset(Dataset):\n",
        "    def __init__(self, pos_dataset, neg_dataset, transform=None, num_pairs=1000):\n",
        "        self.pos_dataset = pos_dataset\n",
        "        self.neg_dataset = neg_dataset\n",
        "        self.transform = transform\n",
        "        self.num_pairs = num_pairs\n",
        "        self.pairs = []\n",
        "        self.labels = []\n",
        "\n",
        "        # Build pairs\n",
        "        self.create_pairs()\n",
        "\n",
        "    def create_pairs(self):\n",
        "        # Positive Pairs (same class)\n",
        "        for _ in range(self.num_pairs // 2):\n",
        "            if random.random() < 0.5:\n",
        "                # positive-positive\n",
        "                idx1, idx2 = random.sample(range(len(self.pos_dataset)), 2)\n",
        "                img1 = self.pos_dataset[idx1]\n",
        "                img2 = self.pos_dataset[idx2]\n",
        "            else:\n",
        "                # negative-negative\n",
        "                idx1, idx2 = random.sample(range(len(self.neg_dataset)), 2)\n",
        "                img1 = self.neg_dataset[idx1]\n",
        "                img2 = self.neg_dataset[idx2]\n",
        "\n",
        "            self.pairs.append((img1, img2))\n",
        "            self.labels.append(1)\n",
        "\n",
        "        # Negative Pairs (different class)\n",
        "        for _ in range(self.num_pairs // 2):\n",
        "            idx1 = random.randint(0, len(self.pos_dataset) - 1)\n",
        "            idx2 = random.randint(0, len(self.neg_dataset) - 1)\n",
        "            img1 = self.pos_dataset[idx1]\n",
        "            img2 = self.neg_dataset[idx2]\n",
        "\n",
        "            self.pairs.append((img1, img2))\n",
        "            self.labels.append(0)\n",
        "\n",
        "    def __len__(self):\n",
        "        return self.num_pairs\n",
        "\n",
        "    def __getitem__(self, idx):\n",
        "        img1, img2 = self.pairs[idx]\n",
        "        label = torch.tensor(self.labels[idx], dtype=torch.float32)\n",
        "        return img1, img2, label"
      ],
      "metadata": {
        "id": "SXkq0puQA6zI"
      },
      "execution_count": null,
      "outputs": []
    },
    {
      "cell_type": "code",
      "source": [
        "# Create pair dataset\n",
        "pair_dataset = SiamesePairDataset(positive_dataset, negative_dataset, transform, num_pairs=1000)\n",
        "\n",
        "# Dataloader for training\n",
        "pair_loader = DataLoader(pair_dataset, batch_size=32, shuffle=True)"
      ],
      "metadata": {
        "id": "jTQO7M6ZBeZB"
      },
      "execution_count": null,
      "outputs": []
    },
    {
      "cell_type": "code",
      "source": [
        "import torch.nn as nn\n",
        "import torchvision.models as models\n",
        "import torch.nn.functional as F\n",
        "\n",
        "class SiameseNetwork(nn.Module):\n",
        "    def __init__(self, embedding_dim=512):\n",
        "        super(SiameseNetwork, self).__init__()\n",
        "        resnet = models.resnet18(pretrained=True)\n",
        "        # Remove the final fully connected layer\n",
        "        self.feature_extractor = nn.Sequential(*list(resnet.children())[:-1])\n",
        "        self.fc = nn.Linear(resnet.fc.in_features, embedding_dim)\n",
        "\n",
        "    def forward_once(self, x):\n",
        "        x = self.feature_extractor(x)\n",
        "        x = x.view(x.size(0), -1)  # Flatten\n",
        "        x = self.fc(x)\n",
        "        return x\n",
        "\n",
        "    def forward(self, input1, input2):\n",
        "        output1 = self.forward_once(input1)\n",
        "        output2 = self.forward_once(input2)\n",
        "        return output1, output2\n"
      ],
      "metadata": {
        "id": "DTU12f_Ij8hd"
      },
      "execution_count": null,
      "outputs": []
    },
    {
      "cell_type": "code",
      "source": [
        "class ContrastiveLoss(nn.Module):\n",
        "    def __init__(self, margin=1.0):\n",
        "        super(ContrastiveLoss, self).__init__()\n",
        "        self.margin = margin\n",
        "\n",
        "    def forward(self, output1, output2, label):\n",
        "        euclidean_distance = F.pairwise_distance(output1, output2)\n",
        "        loss = label * torch.pow(euclidean_distance, 2) + \\\n",
        "               (1 - label) * torch.pow(torch.clamp(self.margin - euclidean_distance, min=0.0), 2)\n",
        "        return loss.mean()\n"
      ],
      "metadata": {
        "id": "HGqKzfjpkx2w"
      },
      "execution_count": null,
      "outputs": []
    },
    {
      "cell_type": "code",
      "source": [
        "from sklearn.metrics import confusion_matrix, ConfusionMatrixDisplay\n",
        "import matplotlib.pyplot as plt\n",
        "import numpy as np\n"
      ],
      "metadata": {
        "id": "xfta7XPjmu5y"
      },
      "execution_count": null,
      "outputs": []
    },
    {
      "cell_type": "code",
      "source": [
        "device = torch.device(\"cuda\" if torch.cuda.is_available() else \"cpu\")\n",
        "model = SiameseNetwork().to(device)\n",
        "criterion = ContrastiveLoss()\n",
        "optimizer = torch.optim.Adam(model.parameters(), lr=1e-4)\n",
        "\n",
        "threshold = 0.5  # You can tune this\n",
        "\n",
        "for epoch in range(20):  # Adjust epochs\n",
        "    model.train()\n",
        "    running_loss = 0.0\n",
        "    correct = 0\n",
        "    total = 0\n",
        "\n",
        "    all_labels = []\n",
        "    all_preds = []\n",
        "\n",
        "    for img1, img2, label in pair_loader:\n",
        "        img1, img2, label = img1.to(device), img2.to(device), label.to(device)\n",
        "\n",
        "        optimizer.zero_grad()\n",
        "        output1, output2 = model(img1, img2)\n",
        "        loss = criterion(output1, output2, label)\n",
        "        loss.backward()\n",
        "        optimizer.step()\n",
        "\n",
        "        running_loss += loss.item()\n",
        "\n",
        "        # Compute accuracy\n",
        "        distance = F.pairwise_distance(output1, output2)\n",
        "        predictions = (distance < threshold).float()\n",
        "\n",
        "        correct += (predictions == label).sum().item()\n",
        "        total += label.size(0)\n",
        "\n",
        "        all_labels.extend(label.cpu().numpy())\n",
        "        all_preds.extend(predictions.cpu().numpy())\n",
        "\n",
        "    accuracy = correct / total\n",
        "    print(f\"Epoch {epoch+1}, Loss: {running_loss/len(pair_loader):.4f}, Accuracy: {accuracy*100:.2f}%\")\n",
        "\n",
        "    if epoch == 19:  # After final epoch (epoch 20)\n",
        "        cm = confusion_matrix(all_labels, all_preds)\n",
        "        print(\"Confusion Matrix (Final Epoch):\")\n",
        "        print(cm)\n",
        "\n",
        "        disp = ConfusionMatrixDisplay(confusion_matrix=cm, display_labels=[\"Dissimilar (0)\", \"Similar (1)\"])\n",
        "        disp.plot(cmap=plt.cm.Blues)\n",
        "        plt.title(\"Confusion Matrix (Epoch 20)\")\n",
        "        plt.show()\n"
      ],
      "metadata": {
        "colab": {
          "base_uri": "https://localhost:8080/",
          "height": 961
        },
        "id": "jD6PCshbnSuJ",
        "outputId": "77eba271-ba30-49d1-c042-5e76ad2d79ef"
      },
      "execution_count": null,
      "outputs": [
        {
          "output_type": "stream",
          "name": "stderr",
          "text": [
            "/usr/local/lib/python3.11/dist-packages/torchvision/models/_utils.py:208: UserWarning: The parameter 'pretrained' is deprecated since 0.13 and may be removed in the future, please use 'weights' instead.\n",
            "  warnings.warn(\n",
            "/usr/local/lib/python3.11/dist-packages/torchvision/models/_utils.py:223: UserWarning: Arguments other than a weight enum or `None` for 'weights' are deprecated since 0.13 and may be removed in the future. The current behavior is equivalent to passing `weights=ResNet18_Weights.IMAGENET1K_V1`. You can also use `weights=ResNet18_Weights.DEFAULT` to get the most up-to-date weights.\n",
            "  warnings.warn(msg)\n"
          ]
        },
        {
          "output_type": "stream",
          "name": "stdout",
          "text": [
            "Epoch 1, Loss: 14.9359, Accuracy: 50.00%\n",
            "Epoch 2, Loss: 0.4670, Accuracy: 51.30%\n",
            "Epoch 3, Loss: 0.3019, Accuracy: 55.40%\n",
            "Epoch 4, Loss: 0.2654, Accuracy: 57.90%\n",
            "Epoch 5, Loss: 0.2477, Accuracy: 60.80%\n",
            "Epoch 6, Loss: 0.2343, Accuracy: 63.00%\n",
            "Epoch 7, Loss: 0.2225, Accuracy: 66.60%\n",
            "Epoch 8, Loss: 0.2139, Accuracy: 70.50%\n",
            "Epoch 9, Loss: 0.2051, Accuracy: 72.00%\n",
            "Epoch 10, Loss: 0.1963, Accuracy: 74.70%\n",
            "Epoch 11, Loss: 0.1882, Accuracy: 76.70%\n",
            "Epoch 12, Loss: 0.1789, Accuracy: 79.90%\n",
            "Epoch 13, Loss: 0.1712, Accuracy: 81.20%\n",
            "Epoch 14, Loss: 0.1603, Accuracy: 83.30%\n",
            "Epoch 15, Loss: 0.1537, Accuracy: 84.70%\n",
            "Epoch 16, Loss: 0.1441, Accuracy: 88.60%\n",
            "Epoch 17, Loss: 0.1371, Accuracy: 87.80%\n",
            "Epoch 18, Loss: 0.1268, Accuracy: 91.20%\n",
            "Epoch 19, Loss: 0.1183, Accuracy: 92.80%\n",
            "Epoch 20, Loss: 0.1103, Accuracy: 94.00%\n",
            "Confusion Matrix (Final Epoch):\n",
            "[[497   3]\n",
            " [ 57 443]]\n"
          ]
        },
        {
          "output_type": "display_data",
          "data": {
            "text/plain": [
              "<Figure size 640x480 with 2 Axes>"
            ],
            "image/png": "[encoded data removed]"
          },
          "metadata": {}
        }
      ]
    },
    {
      "cell_type": "code",
      "source": [],
      "metadata": {
        "id": "j8Z4MQCHomeB"
      },
      "execution_count": null,
      "outputs": []
    }
  ]
}